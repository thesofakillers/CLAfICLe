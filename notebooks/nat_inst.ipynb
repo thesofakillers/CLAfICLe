{
 "cells": [
  {
   "cell_type": "markdown",
   "id": "1d2f4a35-5e57-46b6-bb9a-b0c671b6955c",
   "metadata": {},
   "source": [
    "# Evaluating the suitability of the Natural Instructions dataset for monolingual non-English datasets"
   ]
  },
  {
   "cell_type": "code",
   "execution_count": 1,
   "id": "3b08a087-976d-416d-99c0-0a2020702240",
   "metadata": {},
   "outputs": [],
   "source": [
    "import pandas as pd"
   ]
  },
  {
   "cell_type": "code",
   "execution_count": 2,
   "id": "f7d0303d-b016-4a6e-889e-2e5f29f9212d",
   "metadata": {},
   "outputs": [],
   "source": [
    "data = pd.read_csv(\"../data/raw/nat_inst_tasks.csv\", sep=\";\")"
   ]
  },
  {
   "cell_type": "markdown",
   "id": "cd0ab73a-9541-4c15-824b-839853b98c08",
   "metadata": {},
   "source": [
    "## How many tasks have both input and output in German/French?"
   ]
  },
  {
   "cell_type": "code",
   "execution_count": 3,
   "id": "d50482d0-4fe9-4730-9434-71d269782236",
   "metadata": {},
   "outputs": [
    {
     "data": {
      "text/html": [
       "<div>\n",
       "<style scoped>\n",
       "    .dataframe tbody tr th:only-of-type {\n",
       "        vertical-align: middle;\n",
       "    }\n",
       "\n",
       "    .dataframe tbody tr th {\n",
       "        vertical-align: top;\n",
       "    }\n",
       "\n",
       "    .dataframe thead th {\n",
       "        text-align: right;\n",
       "    }\n",
       "</style>\n",
       "<table border=\"1\" class=\"dataframe\">\n",
       "  <thead>\n",
       "    <tr style=\"text-align: right;\">\n",
       "      <th></th>\n",
       "      <th>Name</th>\n",
       "      <th>Summary</th>\n",
       "      <th>Category</th>\n",
       "      <th>Domain</th>\n",
       "      <th>Input</th>\n",
       "      <th>Output</th>\n",
       "    </tr>\n",
       "  </thead>\n",
       "  <tbody>\n",
       "    <tr>\n",
       "      <th>416</th>\n",
       "      <td>task416_mickey_de_sentence_perturbation_genera...</td>\n",
       "      <td>Given a sentence in German, perform perturbati...</td>\n",
       "      <td>Sentence Perturbation</td>\n",
       "      <td>Commonsense, Knowledge Base -&gt; Wikidata</td>\n",
       "      <td>German</td>\n",
       "      <td>German</td>\n",
       "    </tr>\n",
       "    <tr>\n",
       "      <th>774</th>\n",
       "      <td>task774_pawsx_german_text_modification</td>\n",
       "      <td>Given a sentence in German, provide an equival...</td>\n",
       "      <td>Paraphrasing</td>\n",
       "      <td>Wikipedia</td>\n",
       "      <td>German</td>\n",
       "      <td>German</td>\n",
       "    </tr>\n",
       "  </tbody>\n",
       "</table>\n",
       "</div>"
      ],
      "text/plain": [
       "                                                  Name  \\\n",
       "416  task416_mickey_de_sentence_perturbation_genera...   \n",
       "774             task774_pawsx_german_text_modification   \n",
       "\n",
       "                                               Summary               Category  \\\n",
       "416  Given a sentence in German, perform perturbati...  Sentence Perturbation   \n",
       "774  Given a sentence in German, provide an equival...           Paraphrasing   \n",
       "\n",
       "                                      Domain   Input  Output  \n",
       "416  Commonsense, Knowledge Base -> Wikidata  German  German  \n",
       "774                                Wikipedia  German  German  "
      ]
     },
     "execution_count": 3,
     "metadata": {},
     "output_type": "execute_result"
    }
   ],
   "source": [
    "data[(data.Input == 'German') & (data.Output == 'German')]"
   ]
  },
  {
   "cell_type": "code",
   "execution_count": 4,
   "id": "02358f08-09d1-44ed-b67a-af7e49ba7bce",
   "metadata": {},
   "outputs": [
    {
     "data": {
      "text/html": [
       "<div>\n",
       "<style scoped>\n",
       "    .dataframe tbody tr th:only-of-type {\n",
       "        vertical-align: middle;\n",
       "    }\n",
       "\n",
       "    .dataframe tbody tr th {\n",
       "        vertical-align: top;\n",
       "    }\n",
       "\n",
       "    .dataframe thead th {\n",
       "        text-align: right;\n",
       "    }\n",
       "</style>\n",
       "<table border=\"1\" class=\"dataframe\">\n",
       "  <thead>\n",
       "    <tr style=\"text-align: right;\">\n",
       "      <th></th>\n",
       "      <th>Name</th>\n",
       "      <th>Summary</th>\n",
       "      <th>Category</th>\n",
       "      <th>Domain</th>\n",
       "      <th>Input</th>\n",
       "      <th>Output</th>\n",
       "    </tr>\n",
       "  </thead>\n",
       "  <tbody>\n",
       "    <tr>\n",
       "      <th>406</th>\n",
       "      <td>task406_mickey_fr_sentence_perturbation_genera...</td>\n",
       "      <td>Given a sentence in French, perform perturbati...</td>\n",
       "      <td>Sentence Perturbation</td>\n",
       "      <td>Commonsense, Knowledge Base -&gt; Wikidata</td>\n",
       "      <td>French</td>\n",
       "      <td>French</td>\n",
       "    </tr>\n",
       "    <tr>\n",
       "      <th>772</th>\n",
       "      <td>task772_pawsx_french_text_modification</td>\n",
       "      <td>Given a sentence in French, provide an equival...</td>\n",
       "      <td>Paraphrasing</td>\n",
       "      <td>Wikipedia</td>\n",
       "      <td>French</td>\n",
       "      <td>French</td>\n",
       "    </tr>\n",
       "  </tbody>\n",
       "</table>\n",
       "</div>"
      ],
      "text/plain": [
       "                                                  Name  \\\n",
       "406  task406_mickey_fr_sentence_perturbation_genera...   \n",
       "772             task772_pawsx_french_text_modification   \n",
       "\n",
       "                                               Summary               Category  \\\n",
       "406  Given a sentence in French, perform perturbati...  Sentence Perturbation   \n",
       "772  Given a sentence in French, provide an equival...           Paraphrasing   \n",
       "\n",
       "                                      Domain   Input  Output  \n",
       "406  Commonsense, Knowledge Base -> Wikidata  French  French  \n",
       "772                                Wikipedia  French  French  "
      ]
     },
     "execution_count": 4,
     "metadata": {},
     "output_type": "execute_result"
    }
   ],
   "source": [
    "data[(data.Input == 'French') & (data.Output == 'French')]"
   ]
  },
  {
   "cell_type": "markdown",
   "id": "1d4b19e1-9cb2-4823-8954-c2f8677bd0b6",
   "metadata": {},
   "source": [
    "## How many tasks have either input and output in German/French?"
   ]
  },
  {
   "cell_type": "code",
   "execution_count": 5,
   "id": "f7ce262c-7d72-4691-8617-284077ebefdd",
   "metadata": {},
   "outputs": [
    {
     "data": {
      "text/plain": [
       "Name        23\n",
       "Summary     23\n",
       "Category    23\n",
       "Domain      23\n",
       "Input       23\n",
       "Output      23\n",
       "dtype: int64"
      ]
     },
     "execution_count": 5,
     "metadata": {},
     "output_type": "execute_result"
    }
   ],
   "source": [
    "data[(data.Input == 'German') | (data.Output == 'German')].count()"
   ]
  },
  {
   "cell_type": "code",
   "execution_count": 6,
   "id": "1051511a-0b7b-44b3-aaa5-78af0a3865e4",
   "metadata": {},
   "outputs": [
    {
     "data": {
      "text/plain": [
       "Name        27\n",
       "Summary     27\n",
       "Category    27\n",
       "Domain      27\n",
       "Input       27\n",
       "Output      27\n",
       "dtype: int64"
      ]
     },
     "execution_count": 6,
     "metadata": {},
     "output_type": "execute_result"
    }
   ],
   "source": [
    "data[(data.Input == 'French') | (data.Output == 'French')].count()"
   ]
  },
  {
   "cell_type": "markdown",
   "id": "ba9ed6b9-501f-4bac-8885-7279ca05c1c2",
   "metadata": {},
   "source": [
    "\n",
    "---\n",
    "---\n",
    "\n",
    "this seems to be where the authors get their numbers for Fig. 3\n",
    "\n",
    "---\n",
    "---"
   ]
  },
  {
   "cell_type": "markdown",
   "id": "77b64c50-36ff-4906-9a07-3866b942482e",
   "metadata": {},
   "source": [
    "## How many non-translation tasks have input in German/French?"
   ]
  },
  {
   "cell_type": "code",
   "execution_count": 7,
   "id": "abf92884-8e54-48ad-9eb6-008d398faf33",
   "metadata": {},
   "outputs": [
    {
     "data": {
      "text/html": [
       "<div>\n",
       "<style scoped>\n",
       "    .dataframe tbody tr th:only-of-type {\n",
       "        vertical-align: middle;\n",
       "    }\n",
       "\n",
       "    .dataframe tbody tr th {\n",
       "        vertical-align: top;\n",
       "    }\n",
       "\n",
       "    .dataframe thead th {\n",
       "        text-align: right;\n",
       "    }\n",
       "</style>\n",
       "<table border=\"1\" class=\"dataframe\">\n",
       "  <thead>\n",
       "    <tr style=\"text-align: right;\">\n",
       "      <th></th>\n",
       "      <th>Name</th>\n",
       "      <th>Summary</th>\n",
       "      <th>Category</th>\n",
       "      <th>Domain</th>\n",
       "      <th>Input</th>\n",
       "      <th>Output</th>\n",
       "    </tr>\n",
       "  </thead>\n",
       "  <tbody>\n",
       "    <tr>\n",
       "      <th>416</th>\n",
       "      <td>task416_mickey_de_sentence_perturbation_genera...</td>\n",
       "      <td>Given a sentence in German, perform perturbati...</td>\n",
       "      <td>Sentence Perturbation</td>\n",
       "      <td>Commonsense, Knowledge Base -&gt; Wikidata</td>\n",
       "      <td>German</td>\n",
       "      <td>German</td>\n",
       "    </tr>\n",
       "    <tr>\n",
       "      <th>478</th>\n",
       "      <td>task479_cls_german_books_classification</td>\n",
       "      <td>Classify a given book product review in German...</td>\n",
       "      <td>Sentiment Analysis</td>\n",
       "      <td>Reviews -&gt; Books</td>\n",
       "      <td>German</td>\n",
       "      <td>English</td>\n",
       "    </tr>\n",
       "    <tr>\n",
       "      <th>479</th>\n",
       "      <td>task480_cls_german_dvd_classification</td>\n",
       "      <td>Classify a given dvd product review in German ...</td>\n",
       "      <td>Sentiment Analysis</td>\n",
       "      <td>Reviews -&gt; Electronics and Grocery</td>\n",
       "      <td>German</td>\n",
       "      <td>English</td>\n",
       "    </tr>\n",
       "    <tr>\n",
       "      <th>480</th>\n",
       "      <td>task481_cls_german_music_classification</td>\n",
       "      <td>Classify a given music product review in Germa...</td>\n",
       "      <td>Sentiment Analysis</td>\n",
       "      <td>Reviews -&gt; Music</td>\n",
       "      <td>German</td>\n",
       "      <td>English</td>\n",
       "    </tr>\n",
       "    <tr>\n",
       "      <th>774</th>\n",
       "      <td>task774_pawsx_german_text_modification</td>\n",
       "      <td>Given a sentence in German, provide an equival...</td>\n",
       "      <td>Paraphrasing</td>\n",
       "      <td>Wikipedia</td>\n",
       "      <td>German</td>\n",
       "      <td>German</td>\n",
       "    </tr>\n",
       "    <tr>\n",
       "      <th>1123</th>\n",
       "      <td>task1138_xcsr_de_commonsense_mc_classification</td>\n",
       "      <td>Answering multiple choice commonsense question...</td>\n",
       "      <td>Question Answering</td>\n",
       "      <td>Commonsense</td>\n",
       "      <td>German</td>\n",
       "      <td>English</td>\n",
       "    </tr>\n",
       "  </tbody>\n",
       "</table>\n",
       "</div>"
      ],
      "text/plain": [
       "                                                   Name  \\\n",
       "416   task416_mickey_de_sentence_perturbation_genera...   \n",
       "478             task479_cls_german_books_classification   \n",
       "479               task480_cls_german_dvd_classification   \n",
       "480             task481_cls_german_music_classification   \n",
       "774              task774_pawsx_german_text_modification   \n",
       "1123     task1138_xcsr_de_commonsense_mc_classification   \n",
       "\n",
       "                                                Summary  \\\n",
       "416   Given a sentence in German, perform perturbati...   \n",
       "478   Classify a given book product review in German...   \n",
       "479   Classify a given dvd product review in German ...   \n",
       "480   Classify a given music product review in Germa...   \n",
       "774   Given a sentence in German, provide an equival...   \n",
       "1123  Answering multiple choice commonsense question...   \n",
       "\n",
       "                   Category                                   Domain   Input  \\\n",
       "416   Sentence Perturbation  Commonsense, Knowledge Base -> Wikidata  German   \n",
       "478      Sentiment Analysis                         Reviews -> Books  German   \n",
       "479      Sentiment Analysis       Reviews -> Electronics and Grocery  German   \n",
       "480      Sentiment Analysis                         Reviews -> Music  German   \n",
       "774            Paraphrasing                                Wikipedia  German   \n",
       "1123     Question Answering                              Commonsense  German   \n",
       "\n",
       "       Output  \n",
       "416    German  \n",
       "478   English  \n",
       "479   English  \n",
       "480   English  \n",
       "774    German  \n",
       "1123  English  "
      ]
     },
     "execution_count": 7,
     "metadata": {},
     "output_type": "execute_result"
    }
   ],
   "source": [
    "data[(data.Input == 'German') & (data.Category != \"Translation\")]"
   ]
  },
  {
   "cell_type": "code",
   "execution_count": 8,
   "id": "7ed91274-bb2a-4278-b949-2c5d95fd6dbd",
   "metadata": {},
   "outputs": [
    {
     "data": {
      "text/html": [
       "<div>\n",
       "<style scoped>\n",
       "    .dataframe tbody tr th:only-of-type {\n",
       "        vertical-align: middle;\n",
       "    }\n",
       "\n",
       "    .dataframe tbody tr th {\n",
       "        vertical-align: top;\n",
       "    }\n",
       "\n",
       "    .dataframe thead th {\n",
       "        text-align: right;\n",
       "    }\n",
       "</style>\n",
       "<table border=\"1\" class=\"dataframe\">\n",
       "  <thead>\n",
       "    <tr style=\"text-align: right;\">\n",
       "      <th></th>\n",
       "      <th>Name</th>\n",
       "      <th>Summary</th>\n",
       "      <th>Category</th>\n",
       "      <th>Domain</th>\n",
       "      <th>Input</th>\n",
       "      <th>Output</th>\n",
       "    </tr>\n",
       "  </thead>\n",
       "  <tbody>\n",
       "    <tr>\n",
       "      <th>406</th>\n",
       "      <td>task406_mickey_fr_sentence_perturbation_genera...</td>\n",
       "      <td>Given a sentence in French, perform perturbati...</td>\n",
       "      <td>Sentence Perturbation</td>\n",
       "      <td>Commonsense, Knowledge Base -&gt; Wikidata</td>\n",
       "      <td>French</td>\n",
       "      <td>French</td>\n",
       "    </tr>\n",
       "    <tr>\n",
       "      <th>481</th>\n",
       "      <td>task482_cls_french_books_classification</td>\n",
       "      <td>Classify a given book product review in French...</td>\n",
       "      <td>Sentiment Analysis</td>\n",
       "      <td>Reviews -&gt; Books</td>\n",
       "      <td>French</td>\n",
       "      <td>English</td>\n",
       "    </tr>\n",
       "    <tr>\n",
       "      <th>482</th>\n",
       "      <td>task483_cls_french_dvd_classification</td>\n",
       "      <td>Classify a given dvd product review in French ...</td>\n",
       "      <td>Sentiment Analysis</td>\n",
       "      <td>Reviews -&gt; Electronics and Grocery</td>\n",
       "      <td>French</td>\n",
       "      <td>English</td>\n",
       "    </tr>\n",
       "    <tr>\n",
       "      <th>483</th>\n",
       "      <td>task484_cls_french_music_classification</td>\n",
       "      <td>Classify a given music product review in Frenc...</td>\n",
       "      <td>Sentiment Analysis</td>\n",
       "      <td>Reviews -&gt; Music</td>\n",
       "      <td>French</td>\n",
       "      <td>English</td>\n",
       "    </tr>\n",
       "    <tr>\n",
       "      <th>772</th>\n",
       "      <td>task772_pawsx_french_text_modification</td>\n",
       "      <td>Given a sentence in French, provide an equival...</td>\n",
       "      <td>Paraphrasing</td>\n",
       "      <td>Wikipedia</td>\n",
       "      <td>French</td>\n",
       "      <td>French</td>\n",
       "    </tr>\n",
       "    <tr>\n",
       "      <th>1121</th>\n",
       "      <td>task1136_xcsr_fr_commonsense_mc_classification</td>\n",
       "      <td>Answering multiple choice commonsense question...</td>\n",
       "      <td>Question Answering</td>\n",
       "      <td>Commonsense</td>\n",
       "      <td>French</td>\n",
       "      <td>English</td>\n",
       "    </tr>\n",
       "    <tr>\n",
       "      <th>1515</th>\n",
       "      <td>task1591_allocine_classification</td>\n",
       "      <td>Classification (based on allocine)</td>\n",
       "      <td>Sentiment Analysis</td>\n",
       "      <td>Reviews -&gt; Movies</td>\n",
       "      <td>French</td>\n",
       "      <td>English</td>\n",
       "    </tr>\n",
       "  </tbody>\n",
       "</table>\n",
       "</div>"
      ],
      "text/plain": [
       "                                                   Name  \\\n",
       "406   task406_mickey_fr_sentence_perturbation_genera...   \n",
       "481             task482_cls_french_books_classification   \n",
       "482               task483_cls_french_dvd_classification   \n",
       "483             task484_cls_french_music_classification   \n",
       "772              task772_pawsx_french_text_modification   \n",
       "1121     task1136_xcsr_fr_commonsense_mc_classification   \n",
       "1515                   task1591_allocine_classification   \n",
       "\n",
       "                                                Summary  \\\n",
       "406   Given a sentence in French, perform perturbati...   \n",
       "481   Classify a given book product review in French...   \n",
       "482   Classify a given dvd product review in French ...   \n",
       "483   Classify a given music product review in Frenc...   \n",
       "772   Given a sentence in French, provide an equival...   \n",
       "1121  Answering multiple choice commonsense question...   \n",
       "1515                 Classification (based on allocine)   \n",
       "\n",
       "                   Category                                   Domain   Input  \\\n",
       "406   Sentence Perturbation  Commonsense, Knowledge Base -> Wikidata  French   \n",
       "481      Sentiment Analysis                         Reviews -> Books  French   \n",
       "482      Sentiment Analysis       Reviews -> Electronics and Grocery  French   \n",
       "483      Sentiment Analysis                         Reviews -> Music  French   \n",
       "772            Paraphrasing                                Wikipedia  French   \n",
       "1121     Question Answering                              Commonsense  French   \n",
       "1515     Sentiment Analysis                        Reviews -> Movies  French   \n",
       "\n",
       "       Output  \n",
       "406    French  \n",
       "481   English  \n",
       "482   English  \n",
       "483   English  \n",
       "772    French  \n",
       "1121  English  \n",
       "1515  English  "
      ]
     },
     "execution_count": 8,
     "metadata": {},
     "output_type": "execute_result"
    }
   ],
   "source": [
    "data[(data.Input == 'French') & (data.Category != \"Translation\")]"
   ]
  },
  {
   "cell_type": "markdown",
   "id": "832eed42-c27f-49f3-8d90-f3971f2beed8",
   "metadata": {},
   "source": [
    "## What about the language of the prompt/instructions?"
   ]
  },
  {
   "cell_type": "code",
   "execution_count": 11,
   "id": "15bbd3c8-b264-40b2-8f18-5254302ad478",
   "metadata": {},
   "outputs": [
    {
     "data": {
      "text/plain": [
       "848     Given a list of lists of integers multiply the...\n",
       "761     Given a app review,classify whether it's Poiti...\n",
       "1380    Given a sentence (from DART), identify the obj...\n",
       "541     Language Translate of Dataset Card for ALT fro...\n",
       "1102    Generate answer yes or no for Japanese and Bah...\n",
       "283     Given a conversation and a question, write an ...\n",
       "723     Answering mutlitple choice questions on moral ...\n",
       "1199    Given a tuple, determine whether the Head caus...\n",
       "398     Given a tweet judge whether the author was hap...\n",
       "950        Generating a missing word on Catalan Sentences\n",
       "1574           Generating guestions (based on super_glue)\n",
       "359     Detecting the usage of vouch-fair negotiation ...\n",
       "1448                    Given a word generate its antonym\n",
       "1125    Answering multiple choice commonsense question...\n",
       "1186    Given a tuple, determine whether, as a result ...\n",
       "1153    Given a premise and two alternative in Indones...\n",
       "681      Classify text in malayalam from Hope EDI dataset\n",
       "669     Given an ambiguous question, return a question...\n",
       "1588          Language translation from Yoruba to English\n",
       "1438             Summarization of conversations in DSTC 3\n",
       "Name: Summary, dtype: object"
      ]
     },
     "execution_count": 11,
     "metadata": {},
     "output_type": "execute_result"
    }
   ],
   "source": [
    "data.Summary.sample(20)"
   ]
  },
  {
   "cell_type": "markdown",
   "id": "bd90e0ea-6b9f-4890-92bc-0f4475a64ea5",
   "metadata": {},
   "source": [
    "Unfortunately the prompts are always in English.\n",
    "\n",
    "https://github.com/allenai/natural-instructions/discussions/771"
   ]
  }
 ],
 "metadata": {
  "kernelspec": {
   "display_name": "xt0",
   "language": "python",
   "name": "xt0"
  },
  "language_info": {
   "codemirror_mode": {
    "name": "ipython",
    "version": 3
   },
   "file_extension": ".py",
   "mimetype": "text/x-python",
   "name": "python",
   "nbconvert_exporter": "python",
   "pygments_lexer": "ipython3",
   "version": "3.8.13"
  }
 },
 "nbformat": 4,
 "nbformat_minor": 5
}

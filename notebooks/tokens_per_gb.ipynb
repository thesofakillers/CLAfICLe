{
 "cells": [
  {
   "cell_type": "code",
   "execution_count": 1,
   "id": "1b18894f-7696-462f-a6d5-5a4c76dd2b0b",
   "metadata": {},
   "outputs": [],
   "source": [
    "import datasets\n",
    "import transformers"
   ]
  },
  {
   "cell_type": "code",
   "execution_count": 2,
   "id": "dac93f2a-23f4-4c48-beff-d32b0111b603",
   "metadata": {},
   "outputs": [
    {
     "name": "stderr",
     "output_type": "stream",
     "text": [
      "Using custom data configuration 1024-6ece2bcd680ff578\n",
      "Found cached dataset json (/Users/thesofakillers/repos/claficle/notebooks/../data/raw/oscar/de/1024/json/1024-6ece2bcd680ff578/0.0.0/0f7e3662623656454fcd2b650f34e886a7db4b9104504885bd462096cc7a9f51)\n"
     ]
    },
    {
     "data": {
      "application/vnd.jupyter.widget-view+json": {
       "model_id": "20e6d76108524bf9bd91588b3c73f114",
       "version_major": 2,
       "version_minor": 0
      },
      "text/plain": [
       "  0%|          | 0/2 [00:00<?, ?it/s]"
      ]
     },
     "metadata": {},
     "output_type": "display_data"
    }
   ],
   "source": [
    "raw_datasets = datasets.load_dataset(\n",
    "    \"../data/raw/oscar/de/1024\", cache_dir=\"../data/raw/oscar/de/1024\"\n",
    ")"
   ]
  },
  {
   "cell_type": "code",
   "execution_count": 3,
   "id": "58c6dfd6-1043-4449-8440-5503099bf6a9",
   "metadata": {},
   "outputs": [],
   "source": [
    "train = raw_datasets[\"train\"]"
   ]
  },
  {
   "cell_type": "code",
   "execution_count": 4,
   "id": "17d27394-d216-482c-9ad1-9060cefc4146",
   "metadata": {},
   "outputs": [],
   "source": [
    "tokenizer = transformers.AutoTokenizer.from_pretrained(\"gpt2-large\")\n",
    "tokenizer.pad_token = tokenizer.eos_token"
   ]
  },
  {
   "cell_type": "code",
   "execution_count": 5,
   "id": "b5227381-a941-4412-bdad-a3725ea84905",
   "metadata": {},
   "outputs": [],
   "source": [
    "def no_trunc_no_pad_tokenize(element):\n",
    "    return tokenizer(\n",
    "        element[\"text\"], truncation=False, padding=False, return_length=True\n",
    "    )"
   ]
  },
  {
   "cell_type": "code",
   "execution_count": 6,
   "id": "fd09a17e-a54b-4ec4-ba5f-045ad50253c2",
   "metadata": {},
   "outputs": [
    {
     "data": {
      "application/vnd.jupyter.widget-view+json": {
       "model_id": "f7d6117e647e41959946768465af1300",
       "version_major": 2,
       "version_minor": 0
      },
      "text/plain": [
       "  0%|          | 0/388 [00:00<?, ?ba/s]"
      ]
     },
     "metadata": {},
     "output_type": "display_data"
    },
    {
     "name": "stderr",
     "output_type": "stream",
     "text": [
      "Token indices sequence length is longer than the specified maximum sequence length for this model (3772 > 1024). Running this sequence through the model will result in indexing errors\n"
     ]
    }
   ],
   "source": [
    "tokenized_train = train.map(\n",
    "    no_trunc_no_pad_tokenize, batched=True, remove_columns=train.column_names\n",
    ")"
   ]
  },
  {
   "cell_type": "code",
   "execution_count": 7,
   "id": "1165b5e5-ccaf-406e-9d49-d94c1f842706",
   "metadata": {},
   "outputs": [
    {
     "data": {
      "text/plain": [
       "399267835"
      ]
     },
     "execution_count": 7,
     "metadata": {},
     "output_type": "execute_result"
    }
   ],
   "source": [
    "sum(tokenized_train['length'])"
   ]
  }
 ],
 "metadata": {
  "kernelspec": {
   "display_name": "Python 3 (ipykernel)",
   "language": "python",
   "name": "python3"
  },
  "language_info": {
   "codemirror_mode": {
    "name": "ipython",
    "version": 3
   },
   "file_extension": ".py",
   "mimetype": "text/x-python",
   "name": "python",
   "nbconvert_exporter": "python",
   "pygments_lexer": "ipython3",
   "version": "3.8.13"
  }
 },
 "nbformat": 4,
 "nbformat_minor": 5
}
